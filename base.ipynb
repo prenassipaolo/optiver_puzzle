{
 "cells": [
  {
   "cell_type": "code",
   "execution_count": 1,
   "metadata": {},
   "outputs": [],
   "source": [
    "import numpy as np\n",
    "import pandas as pd\n",
    "import matplotlib.pyplot as plt\n",
    "from IPython.display import clear_output\n",
    "import seaborn as sns\n",
    "import time"
   ]
  },
  {
   "cell_type": "code",
   "execution_count": 2,
   "metadata": {},
   "outputs": [],
   "source": [
    "SEED = 0\n",
    "NUM_ANTS = int(1e2)\n",
    "MAX_STEPS = 100"
   ]
  },
  {
   "cell_type": "code",
   "execution_count": 3,
   "metadata": {},
   "outputs": [],
   "source": [
    "np.random.seed(SEED)"
   ]
  },
  {
   "cell_type": "code",
   "execution_count": 241,
   "metadata": {},
   "outputs": [],
   "source": [
    "def square(x, y):\n",
    "    if -2<x<2 and -2<y<2:\n",
    "        return True\n",
    "    return False\n",
    "\n",
    "def constraints(x, y):\n",
    "    if x+y<1:\n",
    "        return True\n",
    "    return False"
   ]
  },
  {
   "cell_type": "code",
   "execution_count": 242,
   "metadata": {},
   "outputs": [],
   "source": [
    "constraints = square"
   ]
  },
  {
   "cell_type": "code",
   "execution_count": 243,
   "metadata": {},
   "outputs": [],
   "source": [
    "class Ants():\n",
    "    def __init__(self, n:int) -> None:\n",
    "        if n<=0:\n",
    "            raise ValueError(\"Error: 'n' must be a positive integer\")\n",
    "        self.num_initial = n\n",
    "        self.num_alive = n\n",
    "        self.perc_alive = 1.0\n",
    "        self.step = 0\n",
    "        self.death_history = {0: 0}\n",
    "        self.positions = self.initial_positions()\n",
    "        self.possible_moves =  np.array([[1,0], [-1,0], [0,1], [0,-1]])\n",
    "        self.position_summary = {}\n",
    "\n",
    "    def initial_positions(self):\n",
    "        \n",
    "        positions = pd.DataFrame(columns = ['x', 'y'])\n",
    "        positions['x'] = np.zeros(self.num_initial)\n",
    "        positions['y'] = np.zeros(self.num_initial)\n",
    "        \n",
    "        return positions\n",
    "\n",
    "    def move(self):\n",
    "        self.step +=1\n",
    "        # create random moves per each ant\n",
    "        moves = self.possible_moves[np.random.choice(4, self.num_alive)]\n",
    "        # make move\n",
    "        self.positions += moves\n",
    "        # check if the ant reaches the food\n",
    "        alive = self.positions.apply(lambda pos: constraints(pos['x'], pos['y']), axis=1)\n",
    "        self.death_history[self.step] = (~alive).astype(int).sum()\n",
    "        self.num_alive -= self.death_history[self.step]\n",
    "        self.perc_alive = self.num_alive/self.num_initial\n",
    "        self.positions = self.positions[alive]\n",
    "        return self.death_history[self.step]\n",
    "    \n",
    "    def summarize_positions(self):\n",
    "        summary = self.positions.value_counts()\n",
    "        self.position_summary[self.step]= summary\n",
    "        return summary\n",
    "\n"
   ]
  },
  {
   "cell_type": "code",
   "execution_count": 244,
   "metadata": {},
   "outputs": [],
   "source": [
    "class Grid():\n",
    "    def __init__(self, height:int, width:int, default_value=np.nan, constraints=None) -> None:\n",
    "        \n",
    "        assert height>0\n",
    "        assert width>0\n",
    "        self.height = height\n",
    "        self.width = width\n",
    "        self.index = np.flip(np.arange(self.height)) - self.height//2\n",
    "        self.columns = np.arange(self.width) - self.width//2\n",
    "        self.default_value = default_value\n",
    "        \n",
    "        self.default_grid = None\n",
    "        self.initialize_grid()\n",
    "        self.grid = self.default_grid\n",
    "        #self.update_grid(changes)\n",
    "        self.mask = None\n",
    "        self.mask = self.initialize_mask(constraints)\n",
    "\n",
    "\n",
    "    def initialize_grid(self):\n",
    "        grid = np.full([self.height, self.width], self.default_value)\n",
    "        grid = pd.DataFrame(data=grid, index=self.index, columns=self.columns)\n",
    "        self.default_grid = grid\n",
    "        return grid\n",
    "\n",
    "    def update_grid(self, changes, from_default=True):\n",
    "        #if changes!=None:\n",
    "        # if from_default=True it starts the changes form the default grid, otherise fromt the actual one\n",
    "        if from_default:\n",
    "            self.grid = self.default_grid.copy()\n",
    "        # update the grid\n",
    "        if changes.size>=1:\n",
    "            \n",
    "            for x,y in changes.index:\n",
    "                # the grid could be smaller than the indeces in 'changes'\n",
    "                if x in set(self.columns) and y in set(self.index):\n",
    "                    self.grid.at[y,x] = changes[x,y]\n",
    "\n",
    "        return self.grid\n",
    "\n",
    "    def initialize_mask(self, constraints):\n",
    "        if constraints!=None:\n",
    "            # create every possible combination between 2 arrays\n",
    "            mask = pd.DataFrame(index = pd.MultiIndex.from_product([self.index, self.columns]))\n",
    "            mask.index.set_names(['y', 'x'], inplace=True)\n",
    "            # evaluate the constraint function in each point\n",
    "            mask['mask'] = mask.reset_index().apply(lambda pos: not constraints(pos['x'], pos['y']), axis=1).values\n",
    "            # tranform from 1D to 2D\n",
    "            mask = mask.unstack(level=1) # level=1 means that the indeces would be the y\n",
    "            # drop the name \"mask\" from the columns\n",
    "            mask = mask.droplevel(level=0, axis=1)\n",
    "            # unstack changes th order of the indexes, so we have to sorte them again\n",
    "            mask = mask.sort_index(ascending=False, axis=0)\n",
    "            mask = mask.sort_index(ascending=True, axis=1)\n",
    "            # update the mask\n",
    "            self.mask = mask\n",
    "            return mask\n",
    "        return None\n",
    "    \n",
    "    def plot(self, vmax=None, masked:bool=False):\n",
    "        \n",
    "        # add mask\n",
    "        if masked:\n",
    "            sns.heatmap(\n",
    "                data = self.mask, \n",
    "                vmin = 0, \n",
    "                vmax = 10, \n",
    "                cmap = 'Blues', \n",
    "                annot = False,\n",
    "                linewidths = 0.5,\n",
    "                cbar = False\n",
    "                )\n",
    "        ax = sns.heatmap(\n",
    "            data = self.grid, \n",
    "            vmin = 0, \n",
    "            vmax = vmax, \n",
    "            cmap = 'rocket_r', \n",
    "            annot = True,\n",
    "            linecolor='white',\n",
    "            linewidths = 0.5, \n",
    "            xticklabels=True, \n",
    "            yticklabels=True\n",
    "            )\n",
    "        plt.show()\n",
    "        return ax\n",
    "        "
   ]
  },
  {
   "cell_type": "code",
   "execution_count": 246,
   "metadata": {},
   "outputs": [],
   "source": [
    "def tracking(num_ants, max_steps=1, grid_height=10, grid_width=10, wait_time:int=None):\n",
    "    \n",
    "    ants = Ants(num_ants)\n",
    "    grid = Grid(grid_height, grid_width)\n",
    "    start_change = pd.Series(data = [num_ants], index=[(0,0)])\n",
    "    grid.update_grid(changes=start_change)\n",
    "    grid.initialize_mask(constraints=constraints)\n",
    "\n",
    "    starttime = time.time()\n",
    "\n",
    "\n",
    "    while ants.step<=max_steps and ants.num_alive>0:\n",
    "        clear_output(wait=True)\n",
    "        ants.move()\n",
    "        grid.update_grid(changes=ants.summarize_positions())\n",
    "        grid.plot(vmax=num_ants, masked=True)\n",
    "        #if ants.step%1==0 or ants.step>max_steps or ants.num_alive<=0:\n",
    "        print(f'step\\talive\\talive%\\tdeath_now')\n",
    "        print(f'{ants.step}\\t{ants.num_alive}\\t{ants.perc_alive}\\t{ants.death_history[ants.step]}')\n",
    "\n",
    "        if wait_time:\n",
    "            time.sleep(wait_time - ((time.time() - starttime) % wait_time))\n",
    "\n",
    "    death_history = pd.DataFrame.from_dict(ants.death_history, orient='index', columns=['num'])\n",
    "    death_history.index.name = 'step'\n",
    "    death_history.sort_index(inplace=True)\n",
    "\n",
    "\n",
    "    return death_history, ants, grid"
   ]
  },
  {
   "cell_type": "code",
   "execution_count": 247,
   "metadata": {},
   "outputs": [
    {
     "data": {
      "image/png": "[encoded data removed]",
      "text/plain": [
       "<Figure size 432x288 with 2 Axes>"
      ]
     },
     "metadata": {
      "needs_background": "light"
     },
     "output_type": "display_data"
    },
    {
     "name": "stdout",
     "output_type": "stream",
     "text": [
      "step\talive\talive%\tdeath_now\n",
      "21\t9\t0.0009\t3\n"
     ]
    }
   ],
   "source": [
    "# print('Ants creation...')\n",
    "# ants = Ants(NUM_ANTS)\n",
    "print('Movements tracking...')\n",
    "death_history, ants, grid = tracking(num_ants=10000, max_steps=20, grid_height=21, grid_width=21, wait_time=1)"
   ]
  },
  {
   "cell_type": "code",
   "execution_count": 248,
   "metadata": {},
   "outputs": [
    {
     "data": {
      "text/plain": [
       "<AxesSubplot:xlabel='step'>"
      ]
     },
     "execution_count": 248,
     "metadata": {},
     "output_type": "execute_result"
    },
    {
     "data": {
      "image/png": "[encoded data removed]",
      "text/plain": [
       "<Figure size 432x288 with 1 Axes>"
      ]
     },
     "metadata": {
      "needs_background": "light"
     },
     "output_type": "display_data"
    }
   ],
   "source": [
    "death_history.plot()"
   ]
  },
  {
   "cell_type": "code",
   "execution_count": null,
   "metadata": {},
   "outputs": [],
   "source": []
  }
 ],
 "metadata": {
  "interpreter": {
   "hash": "dcd383d230e798d7501b2a53a723e98ac20e3c70e6efbebd001b05d733c31776"
  },
  "kernelspec": {
   "display_name": "Python 3.8.8 64-bit ('.venv': venv)",
   "language": "python",
   "name": "python3"
  },
  "language_info": {
   "codemirror_mode": {
    "name": "ipython",
    "version": 3
   },
   "file_extension": ".py",
   "mimetype": "text/x-python",
   "name": "python",
   "nbconvert_exporter": "python",
   "pygments_lexer": "ipython3",
   "version": "3.8.8"
  },
  "orig_nbformat": 4
 },
 "nbformat": 4,
 "nbformat_minor": 2
}
