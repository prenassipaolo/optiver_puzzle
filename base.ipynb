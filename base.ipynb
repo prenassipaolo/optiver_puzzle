{
 "cells": [
  {
   "cell_type": "code",
   "execution_count": 1,
   "metadata": {},
   "outputs": [],
   "source": [
    "import numpy as np\n",
    "import pandas as pd"
   ]
  },
  {
   "cell_type": "code",
   "execution_count": 52,
   "metadata": {},
   "outputs": [],
   "source": [
    "SEED = 0\n",
    "NUM_ANTS = int(1e5)\n",
    "MAX_STEPS = 100"
   ]
  },
  {
   "cell_type": "code",
   "execution_count": 3,
   "metadata": {},
   "outputs": [],
   "source": [
    "np.random.seed(SEED)"
   ]
  },
  {
   "cell_type": "code",
   "execution_count": 4,
   "metadata": {},
   "outputs": [],
   "source": [
    "# def create_ants(num_ants):\n",
    "\n",
    "#     ants = pd.DataFrame(columns = ['x', 'y', 'food'])\n",
    "#     ants['x'] = np.zeros(num_ants)\n",
    "#     ants['y'] = np.zeros(num_ants)\n",
    "#     ants['food'] = np.full((num_ants, 1), False, dtype=bool)\n",
    "\n",
    "#     return ants"
   ]
  },
  {
   "cell_type": "code",
   "execution_count": 42,
   "metadata": {},
   "outputs": [],
   "source": [
    "def constraints(x, y):\n",
    "    if -2<x<2 and -2<y<2:\n",
    "        return True\n",
    "    return False\n",
    "\n",
    "class Ants():\n",
    "    def __init__(self, n:int) -> None:\n",
    "        if n<=0:\n",
    "            raise ValueError(\"Error: 'n' must be a positive integer\")\n",
    "        self.num_initial = n\n",
    "        self.num_alive = n\n",
    "        self.perc_alive = 1.0\n",
    "        self.step = 0\n",
    "        self.death_history = {0: 0}\n",
    "        self.positions = self.initial_positions()\n",
    "        self.possible_moves =  np.array([[1,0], [-1,0], [0,1], [0,-1]])\n",
    "\n",
    "    def initial_positions(self):\n",
    "        \n",
    "        positions = pd.DataFrame(columns = ['x', 'y'])\n",
    "        positions['x'] = np.zeros(self.num_initial)\n",
    "        positions['y'] = np.zeros(self.num_initial)\n",
    "        \n",
    "        return positions\n",
    "\n",
    "    def move(self):\n",
    "        self.step +=1\n",
    "        moves = self.possible_moves[np.random.choice(4, self.num_alive)]\n",
    "        self.positions += moves\n",
    "        alive = self.positions.apply(lambda pos: constraints(pos['x'], pos['y']), axis=1)\n",
    "        self.death_history[self.step] = (~alive).astype(int).sum()\n",
    "        self.num_alive -= self.death_history[self.step]\n",
    "        self.perc_alive = self.num_alive/self.num_initial\n",
    "        self.positions = self.positions[alive]\n",
    "        return self.death_history[self.step]"
   ]
  },
  {
   "cell_type": "code",
   "execution_count": 50,
   "metadata": {},
   "outputs": [],
   "source": [
    "def tracking(ants, max_steps=1):\n",
    "    \n",
    "    print(f'step:\\tdeath\\talive\\tperc_alive')\n",
    "\n",
    "    while ants.step<=max_steps and ants.num_alive>0:\n",
    "        ants.move()\n",
    "        if ants.step%5==0 or ants.step>max_steps or ants.num_alive<=0:\n",
    "            print(f'{ants.step}:\\t{ants.death_history[ants.step]}\\t{ants.num_alive}\\t{ants.perc_alive}')\n",
    "\n",
    "    death_history = pd.DataFrame.from_dict(ants.death_history, orient='index', columns=['num'])\n",
    "    death_history.index.name = 'step'\n",
    "    death_history.sort_index(inplace=True)\n",
    "\n",
    "\n",
    "    return death_history"
   ]
  },
  {
   "cell_type": "code",
   "execution_count": 54,
   "metadata": {},
   "outputs": [
    {
     "name": "stdout",
     "output_type": "stream",
     "text": [
      "Ants creation...\n",
      "Movements tracking...\n",
      "step:\tdeath\talive\tperc_alive\n",
      "5:\t12450\t25064\t0.25064\n",
      "10:\t1531\t4773\t0.04773\n",
      "15:\t400\t795\t0.00795\n",
      "20:\t53\t133\t0.00133\n",
      "25:\t5\t21\t0.00021\n",
      "30:\t2\t4\t4e-05\n",
      "33:\t1\t0\t0.0\n"
     ]
    }
   ],
   "source": [
    "print('Ants creation...')\n",
    "ants = Ants(NUM_ANTS)\n",
    "print('Movements tracking...')\n",
    "death_history = tracking(ants, MAX_STEPS)"
   ]
  },
  {
   "cell_type": "code",
   "execution_count": 48,
   "metadata": {},
   "outputs": [
    {
     "data": {
      "text/plain": [
       "<AxesSubplot:xlabel='step'>"
      ]
     },
     "execution_count": 48,
     "metadata": {},
     "output_type": "execute_result"
    },
    {
     "data": {
      "image/png": "[encoded data removed]",
      "text/plain": [
       "<Figure size 432x288 with 1 Axes>"
      ]
     },
     "metadata": {
      "needs_background": "light"
     },
     "output_type": "display_data"
    }
   ],
   "source": [
    "death_history.plot()"
   ]
  }
 ],
 "metadata": {
  "interpreter": {
   "hash": "dcd383d230e798d7501b2a53a723e98ac20e3c70e6efbebd001b05d733c31776"
  },
  "kernelspec": {
   "display_name": "Python 3.8.8 64-bit ('.venv': venv)",
   "language": "python",
   "name": "python3"
  },
  "language_info": {
   "codemirror_mode": {
    "name": "ipython",
    "version": 3
   },
   "file_extension": ".py",
   "mimetype": "text/x-python",
   "name": "python",
   "nbconvert_exporter": "python",
   "pygments_lexer": "ipython3",
   "version": "3.8.8"
  },
  "orig_nbformat": 4
 },
 "nbformat": 4,
 "nbformat_minor": 2
}
